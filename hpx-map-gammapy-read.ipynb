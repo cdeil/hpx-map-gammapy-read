{
 "cells": [
  {
   "cell_type": "code",
   "execution_count": 1,
   "metadata": {},
   "outputs": [],
   "source": [
    "from astropy.io import fits\n",
    "from gammapy.maps import Map"
   ]
  },
  {
   "cell_type": "code",
   "execution_count": 2,
   "metadata": {},
   "outputs": [],
   "source": [
    "hdu_list = fits.open('hpx.fits')"
   ]
  },
  {
   "cell_type": "code",
   "execution_count": 3,
   "metadata": {},
   "outputs": [
    {
     "name": "stdout",
     "output_type": "stream",
     "text": [
      "Filename: hpx.fits\n",
      "No.    Name      Ver    Type      Cards   Dimensions   Format\n",
      "  0  PRIMARY       1 PrimaryHDU       6   ()      \n",
      "  1  SKYMAP        1 BinTableHDU     20   196608R x 1C   [38D]   \n",
      "  2  ENERGIES      1 BinTableHDU     12   38R x 1C   [1D]   \n"
     ]
    }
   ],
   "source": [
    "hdu_list.info()"
   ]
  },
  {
   "cell_type": "code",
   "execution_count": 4,
   "metadata": {},
   "outputs": [
    {
     "data": {
      "text/plain": [
       "XTENSION= 'BINTABLE'           / binary table extension                         \n",
       "BITPIX  =                    8 / 8-bit bytes                                    \n",
       "NAXIS   =                    2 / 2-dimensional binary table                     \n",
       "NAXIS1  =                  304 / width of table in bytes                        \n",
       "NAXIS2  =               196608 / number of rows in table                        \n",
       "PCOUNT  =                    0 / size of special data area                      \n",
       "GCOUNT  =                    1 / one data group (required keyword)              \n",
       "TFIELDS =                    1 / number of fields in each row                   \n",
       "TTYPE1  = 'Spectra '           / label for field   1                            \n",
       "TFORM1  = '38D     '           / data format of field: 8-byte DOUBLE            \n",
       "TUNIT1  = 'Intensity'          / physical unit of field                         \n",
       "EXTNAME = 'SKYMAP  '           / name of this binary table extension            \n",
       "PIXTYPE = 'HEALPIX '                                                            \n",
       "ORDERING= 'RING    '                                                            \n",
       "NSIDE   =                  128                                                  \n",
       "FIRSTPIX=                    0                                                  \n",
       "LASTPIX =               196607                                                  \n",
       "NBRBINS =                   38 / Number of energy bins                          \n",
       "EMIN    =                  50. / Minimum energy                                 \n",
       "DELTAE  =    0.262100075726565 / Step in energy (log)                           "
      ]
     },
     "execution_count": 4,
     "metadata": {},
     "output_type": "execute_result"
    }
   ],
   "source": [
    "hdu_list[1].header"
   ]
  },
  {
   "cell_type": "code",
   "execution_count": 5,
   "metadata": {},
   "outputs": [
    {
     "data": {
      "text/plain": [
       "XTENSION= 'BINTABLE'           / binary table extension                         \n",
       "BITPIX  =                    8 / 8-bit bytes                                    \n",
       "NAXIS   =                    2 / 2-dimensional binary table                     \n",
       "NAXIS1  =                    8 / width of table in bytes                        \n",
       "NAXIS2  =                   38 / number of rows in table                        \n",
       "PCOUNT  =                    0 / size of special data area                      \n",
       "GCOUNT  =                    1 / one data group (required keyword)              \n",
       "TFIELDS =                    1 / number of fields in each row                   \n",
       "TTYPE1  = 'MeV     '           / label for field   1                            \n",
       "TFORM1  = '1D      '           / data format of field: 8-byte DOUBLE            \n",
       "TUNIT1  = 'Energy  '           / physical unit of field                         \n",
       "EXTNAME = 'ENERGIES'           / name of this binary table extension            "
      ]
     },
     "execution_count": 5,
     "metadata": {},
     "output_type": "execute_result"
    }
   ],
   "source": [
    "hdu_list[2].header"
   ]
  },
  {
   "cell_type": "code",
   "execution_count": 6,
   "metadata": {},
   "outputs": [
    {
     "data": {
      "text/plain": [
       "FITS_rec([(5.00000000e+01,), (6.49828300e+01,), (8.44553639e+01,),\n",
       "          (1.09762971e+02,), (1.42654170e+02,), (1.85401433e+02,),\n",
       "          (2.40958196e+02,), (3.13162910e+02,), (4.07004243e+02,),\n",
       "          (5.28965751e+02,), (6.87473830e+02,), (8.93479900e+02,),\n",
       "          (1.16121705e+03,), (1.50918340e+03,), (1.96142017e+03,),\n",
       "          (2.54917267e+03,), (3.31304908e+03,), (4.30582611e+03,),\n",
       "          (5.59609532e+03,), (7.27300221e+03,), (9.45240533e+03,),\n",
       "          (1.22848810e+04,), (1.59661266e+04,), (2.07504819e+04,),\n",
       "          (2.69685007e+04,), (3.50497899e+04,), (4.55526908e+04,),\n",
       "          (5.92028552e+04,), (7.69433815e+04,), (9.99999737e+04,),\n",
       "          (1.29965626e+05,), (1.68910683e+05,), (2.19525884e+05,),\n",
       "          (2.85308264e+05,), (3.70802769e+05,), (4.81916266e+05,),\n",
       "          (6.26325656e+05,), (8.14008272e+05,)],\n",
       "         dtype=(numpy.record, [('MeV', '>f8')]))"
      ]
     },
     "execution_count": 6,
     "metadata": {},
     "output_type": "execute_result"
    }
   ],
   "source": [
    "hdu_list[2].data"
   ]
  },
  {
   "cell_type": "code",
   "execution_count": 7,
   "metadata": {},
   "outputs": [
    {
     "ename": "ValueError",
     "evalue": "Could not identify HEALPIX convention",
     "output_type": "error",
     "traceback": [
      "\u001b[0;31m---------------------------------------------------------------------------\u001b[0m",
      "\u001b[0;31mValueError\u001b[0m                                Traceback (most recent call last)",
      "\u001b[0;32m<ipython-input-7-c2dc3f48e5a0>\u001b[0m in \u001b[0;36m<module>\u001b[0;34m()\u001b[0m\n\u001b[0;32m----> 1\u001b[0;31m \u001b[0mMap\u001b[0m\u001b[0;34m.\u001b[0m\u001b[0mread\u001b[0m\u001b[0;34m(\u001b[0m\u001b[0;34m'hpx.fits'\u001b[0m\u001b[0;34m)\u001b[0m\u001b[0;34m\u001b[0m\u001b[0m\n\u001b[0m",
      "\u001b[0;32m~/code/gammapy/gammapy/maps/base.py\u001b[0m in \u001b[0;36mread\u001b[0;34m(cls, filename, hdu, hdu_bands, map_type)\u001b[0m\n\u001b[1;32m    134\u001b[0m         \"\"\"\n\u001b[1;32m    135\u001b[0m         \u001b[0;32mwith\u001b[0m \u001b[0mfits\u001b[0m\u001b[0;34m.\u001b[0m\u001b[0mopen\u001b[0m\u001b[0;34m(\u001b[0m\u001b[0mfilename\u001b[0m\u001b[0;34m)\u001b[0m \u001b[0;32mas\u001b[0m \u001b[0mhdulist\u001b[0m\u001b[0;34m:\u001b[0m\u001b[0;34m\u001b[0m\u001b[0m\n\u001b[0;32m--> 136\u001b[0;31m             \u001b[0mmap_out\u001b[0m \u001b[0;34m=\u001b[0m \u001b[0mcls\u001b[0m\u001b[0;34m.\u001b[0m\u001b[0mfrom_hdu_list\u001b[0m\u001b[0;34m(\u001b[0m\u001b[0mhdulist\u001b[0m\u001b[0;34m,\u001b[0m \u001b[0mhdu\u001b[0m\u001b[0;34m,\u001b[0m \u001b[0mhdu_bands\u001b[0m\u001b[0;34m,\u001b[0m \u001b[0mmap_type\u001b[0m\u001b[0;34m)\u001b[0m\u001b[0;34m\u001b[0m\u001b[0m\n\u001b[0m\u001b[1;32m    137\u001b[0m \u001b[0;34m\u001b[0m\u001b[0m\n\u001b[1;32m    138\u001b[0m         \u001b[0;32mreturn\u001b[0m \u001b[0mmap_out\u001b[0m\u001b[0;34m\u001b[0m\u001b[0m\n",
      "\u001b[0;32m~/code/gammapy/gammapy/maps/base.py\u001b[0m in \u001b[0;36mfrom_hdu_list\u001b[0;34m(cls, hdulist, hdu, hdu_bands, map_type)\u001b[0m\n\u001b[1;32m    143\u001b[0m             \u001b[0mmap_type\u001b[0m \u001b[0;34m=\u001b[0m \u001b[0mcls\u001b[0m\u001b[0;34m.\u001b[0m\u001b[0m_get_map_type\u001b[0m\u001b[0;34m(\u001b[0m\u001b[0mhdulist\u001b[0m\u001b[0;34m,\u001b[0m \u001b[0mhdu\u001b[0m\u001b[0;34m)\u001b[0m\u001b[0;34m\u001b[0m\u001b[0m\n\u001b[1;32m    144\u001b[0m         \u001b[0mcls_out\u001b[0m \u001b[0;34m=\u001b[0m \u001b[0mcls\u001b[0m\u001b[0;34m.\u001b[0m\u001b[0m_get_map_cls\u001b[0m\u001b[0;34m(\u001b[0m\u001b[0mmap_type\u001b[0m\u001b[0;34m)\u001b[0m\u001b[0;34m\u001b[0m\u001b[0m\n\u001b[0;32m--> 145\u001b[0;31m         \u001b[0mmap_out\u001b[0m \u001b[0;34m=\u001b[0m \u001b[0mcls_out\u001b[0m\u001b[0;34m.\u001b[0m\u001b[0mfrom_hdulist\u001b[0m\u001b[0;34m(\u001b[0m\u001b[0mhdulist\u001b[0m\u001b[0;34m,\u001b[0m \u001b[0mhdu\u001b[0m\u001b[0;34m=\u001b[0m\u001b[0mhdu\u001b[0m\u001b[0;34m,\u001b[0m \u001b[0mhdu_bands\u001b[0m\u001b[0;34m=\u001b[0m\u001b[0mhdu_bands\u001b[0m\u001b[0;34m)\u001b[0m\u001b[0;34m\u001b[0m\u001b[0m\n\u001b[0m\u001b[1;32m    146\u001b[0m         \u001b[0;32mreturn\u001b[0m \u001b[0mmap_out\u001b[0m\u001b[0;34m\u001b[0m\u001b[0m\n\u001b[1;32m    147\u001b[0m \u001b[0;34m\u001b[0m\u001b[0m\n",
      "\u001b[0;32m~/code/gammapy/gammapy/maps/hpxmap.py\u001b[0m in \u001b[0;36mfrom_hdulist\u001b[0;34m(cls, hdulist, hdu, hdu_bands)\u001b[0m\n\u001b[1;32m    122\u001b[0m             \u001b[0mhdu_bands\u001b[0m \u001b[0;34m=\u001b[0m \u001b[0mhdulist\u001b[0m\u001b[0;34m[\u001b[0m\u001b[0mhdu_bands\u001b[0m\u001b[0;34m]\u001b[0m\u001b[0;34m\u001b[0m\u001b[0m\n\u001b[1;32m    123\u001b[0m \u001b[0;34m\u001b[0m\u001b[0m\n\u001b[0;32m--> 124\u001b[0;31m         \u001b[0;32mreturn\u001b[0m \u001b[0mcls\u001b[0m\u001b[0;34m.\u001b[0m\u001b[0mfrom_hdu\u001b[0m\u001b[0;34m(\u001b[0m\u001b[0mhdu\u001b[0m\u001b[0;34m,\u001b[0m \u001b[0mhdu_bands\u001b[0m\u001b[0;34m)\u001b[0m\u001b[0;34m\u001b[0m\u001b[0m\n\u001b[0m\u001b[1;32m    125\u001b[0m \u001b[0;34m\u001b[0m\u001b[0m\n\u001b[1;32m    126\u001b[0m     \u001b[0;32mdef\u001b[0m \u001b[0mto_hdulist\u001b[0m\u001b[0;34m(\u001b[0m\u001b[0mself\u001b[0m\u001b[0;34m,\u001b[0m \u001b[0;34m**\u001b[0m\u001b[0mkwargs\u001b[0m\u001b[0;34m)\u001b[0m\u001b[0;34m:\u001b[0m\u001b[0;34m\u001b[0m\u001b[0m\n",
      "\u001b[0;32m~/code/gammapy/gammapy/maps/hpxnd.py\u001b[0m in \u001b[0;36mfrom_hdu\u001b[0;34m(cls, hdu, hdu_bands)\u001b[0m\n\u001b[1;32m     67\u001b[0m             \u001b[0mThe\u001b[0m \u001b[0mBANDS\u001b[0m \u001b[0mtable\u001b[0m \u001b[0mHDU\u001b[0m\u001b[0;34m\u001b[0m\u001b[0m\n\u001b[1;32m     68\u001b[0m         \"\"\"\n\u001b[0;32m---> 69\u001b[0;31m         \u001b[0mhpx\u001b[0m \u001b[0;34m=\u001b[0m \u001b[0mHpxGeom\u001b[0m\u001b[0;34m.\u001b[0m\u001b[0mfrom_header\u001b[0m\u001b[0;34m(\u001b[0m\u001b[0mhdu\u001b[0m\u001b[0;34m.\u001b[0m\u001b[0mheader\u001b[0m\u001b[0;34m,\u001b[0m \u001b[0mhdu_bands\u001b[0m\u001b[0;34m)\u001b[0m\u001b[0;34m\u001b[0m\u001b[0m\n\u001b[0m\u001b[1;32m     70\u001b[0m         \u001b[0mshape\u001b[0m \u001b[0;34m=\u001b[0m \u001b[0mtuple\u001b[0m\u001b[0;34m(\u001b[0m\u001b[0;34m[\u001b[0m\u001b[0max\u001b[0m\u001b[0;34m.\u001b[0m\u001b[0mnbin\u001b[0m \u001b[0;32mfor\u001b[0m \u001b[0max\u001b[0m \u001b[0;32min\u001b[0m \u001b[0mhpx\u001b[0m\u001b[0;34m.\u001b[0m\u001b[0maxes\u001b[0m\u001b[0;34m[\u001b[0m\u001b[0;34m:\u001b[0m\u001b[0;34m:\u001b[0m\u001b[0;34m-\u001b[0m\u001b[0;36m1\u001b[0m\u001b[0;34m]\u001b[0m\u001b[0;34m]\u001b[0m\u001b[0;34m)\u001b[0m\u001b[0;34m\u001b[0m\u001b[0m\n\u001b[1;32m     71\u001b[0m         \u001b[0mshape_data\u001b[0m \u001b[0;34m=\u001b[0m \u001b[0mshape\u001b[0m \u001b[0;34m+\u001b[0m \u001b[0mtuple\u001b[0m\u001b[0;34m(\u001b[0m\u001b[0;34m[\u001b[0m\u001b[0mnp\u001b[0m\u001b[0;34m.\u001b[0m\u001b[0mmax\u001b[0m\u001b[0;34m(\u001b[0m\u001b[0mhpx\u001b[0m\u001b[0;34m.\u001b[0m\u001b[0mnpix\u001b[0m\u001b[0;34m)\u001b[0m\u001b[0;34m]\u001b[0m\u001b[0;34m)\u001b[0m\u001b[0;34m\u001b[0m\u001b[0m\n",
      "\u001b[0;32m~/code/gammapy/gammapy/maps/hpx.py\u001b[0m in \u001b[0;36mfrom_header\u001b[0;34m(cls, header, hdu_bands, pix)\u001b[0m\n\u001b[1;32m   1274\u001b[0m             \u001b[0mHEALPix\u001b[0m \u001b[0mgeometry\u001b[0m\u001b[0;34m.\u001b[0m\u001b[0;34m\u001b[0m\u001b[0m\n\u001b[1;32m   1275\u001b[0m         \"\"\"\n\u001b[0;32m-> 1276\u001b[0;31m         \u001b[0mconvname\u001b[0m \u001b[0;34m=\u001b[0m \u001b[0mHpxGeom\u001b[0m\u001b[0;34m.\u001b[0m\u001b[0midentify_HPX_convention\u001b[0m\u001b[0;34m(\u001b[0m\u001b[0mheader\u001b[0m\u001b[0;34m)\u001b[0m\u001b[0;34m\u001b[0m\u001b[0m\n\u001b[0m\u001b[1;32m   1277\u001b[0m         \u001b[0mconv\u001b[0m \u001b[0;34m=\u001b[0m \u001b[0mHPX_FITS_CONVENTIONS\u001b[0m\u001b[0;34m[\u001b[0m\u001b[0mconvname\u001b[0m\u001b[0;34m]\u001b[0m\u001b[0;34m\u001b[0m\u001b[0m\n\u001b[1;32m   1278\u001b[0m \u001b[0;34m\u001b[0m\u001b[0m\n",
      "\u001b[0;32m~/code/gammapy/gammapy/maps/hpx.py\u001b[0m in \u001b[0;36midentify_HPX_convention\u001b[0;34m(header)\u001b[0m\n\u001b[1;32m   1252\u001b[0m                 \u001b[0;32mreturn\u001b[0m \u001b[0;34m'fgst-srcmap'\u001b[0m\u001b[0;34m\u001b[0m\u001b[0m\n\u001b[1;32m   1253\u001b[0m         \u001b[0;32melse\u001b[0m\u001b[0;34m:\u001b[0m\u001b[0;34m\u001b[0m\u001b[0m\n\u001b[0;32m-> 1254\u001b[0;31m             \u001b[0;32mraise\u001b[0m \u001b[0mValueError\u001b[0m\u001b[0;34m(\u001b[0m\u001b[0;34m'Could not identify HEALPIX convention'\u001b[0m\u001b[0;34m)\u001b[0m\u001b[0;34m\u001b[0m\u001b[0m\n\u001b[0m\u001b[1;32m   1255\u001b[0m \u001b[0;34m\u001b[0m\u001b[0m\n\u001b[1;32m   1256\u001b[0m     \u001b[0;34m@\u001b[0m\u001b[0mclassmethod\u001b[0m\u001b[0;34m\u001b[0m\u001b[0m\n",
      "\u001b[0;31mValueError\u001b[0m: Could not identify HEALPIX convention"
     ]
    }
   ],
   "source": [
    "Map.read('hpx.fits')"
   ]
  },
  {
   "cell_type": "code",
   "execution_count": null,
   "metadata": {},
   "outputs": [],
   "source": []
  }
 ],
 "metadata": {
  "kernelspec": {
   "display_name": "Python 3",
   "language": "python",
   "name": "python3"
  },
  "language_info": {
   "codemirror_mode": {
    "name": "ipython",
    "version": 3
   },
   "file_extension": ".py",
   "mimetype": "text/x-python",
   "name": "python",
   "nbconvert_exporter": "python",
   "pygments_lexer": "ipython3",
   "version": "3.6.4"
  }
 },
 "nbformat": 4,
 "nbformat_minor": 2
}
